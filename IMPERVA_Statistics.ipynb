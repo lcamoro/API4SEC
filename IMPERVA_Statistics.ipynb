{
  "nbformat": 4,
  "nbformat_minor": 0,
  "metadata": {
    "colab": {
      "name": "IMPERVA Statistics.ipynb",
      "provenance": [],
      "collapsed_sections": [],
      "authorship_tag": "ABX9TyPlTo45CXypGWTtPshMcTge"
    },
    "kernelspec": {
      "name": "python3",
      "display_name": "Python 3"
    },
    "language_info": {
      "name": "python"
    }
  },
  "cells": [
    {
      "cell_type": "code",
      "execution_count": null,
      "metadata": {
        "id": "1Hox7Z6TkFu_"
      },
      "outputs": [],
      "source": [
        "#!/usr/bin/python\n",
        "\n",
        "import json,requests\n",
        "import pandas as pd\n",
        "import numpy as np\n",
        "import enum\n",
        "from pandas import json_normalize\n",
        "from datetime import datetime"
      ]
    },
    {
      "cell_type": "code",
      "source": [
        "# Constant variables\n",
        "SERVER_INCAPSULA = \"my.incapsula.com\"\n",
        "PAGE_SIZE = 100  # The number of objects to return in the response. Defaults to 50. Maximum is 100.\n",
        "PAGE_NUM = 0 # The page to return starting from 0. Default to 0.\n",
        "\n",
        "class SIZE_UNIT(enum.Enum):\n",
        "    BYTES = 1\n",
        "    KB = 2\n",
        "    MB = 3\n",
        "    GB = 4"
      ],
      "metadata": {
        "id": "YBm4P62kkJHn"
      },
      "execution_count": null,
      "outputs": []
    },
    {
      "cell_type": "code",
      "source": [
        "# To convert bytes into KB, MB GB \n",
        "def conv_bandwith(size_in_bytes, unit):\n",
        "    if unit == SIZE_UNIT.KB:\n",
        "        return size_in_bytes/1024\n",
        "    elif unit == SIZE_UNIT.MB:\n",
        "        return size_in_bytes/(1024*1024)\n",
        "    elif unit == SIZE_UNIT.GB:\n",
        "        return size_in_bytes/(1024*1024*1024)\n",
        "    else:\n",
        "        return size_in_bytes\n",
        "\n",
        "# Obtain all sites for an account\n",
        "def getSiteList():\n",
        "    URI = f\"https://{SERVER_INCAPSULA}/api/prov/v1/sites/list\"\n",
        "    params = {'api_id':api_id,'api_key':api_key,'page_size':PAGE_SIZE,'page_num':PAGE_NUM}\n",
        "    headers = {\"Content-type\": \"application/x-www-form-urlencoded\",\"Accept\": \"text/plain\"}\n",
        "\n",
        "    response = requests.post(URI, headers=headers, data=params)\n",
        "    data = response.json()\n",
        "\n",
        "    site_id_list= []\n",
        "\n",
        "    for i in data[\"sites\"]:\n",
        "        site_id_list.append(i[\"site_id\"])\n",
        "\n",
        "    return data\n",
        "\n",
        "# Obtain site statistics\n",
        "def getStats(session, stats_type):\n",
        "    params = {'api_id':api_id,'api_key':api_key,'site_id':site_id,'stats':stats_type,'time_range':time_range,'start':start_time,'end':end_time}\n",
        "    headers = {\"Content-type\": \"application/x-www-form-urlencoded\",\"Accept\": \"text/plain\"}\n",
        "\n",
        "    response = session.post(URI, headers=headers, data=params)\n",
        "    \n",
        "    return response.json()"
      ],
      "metadata": {
        "id": "lPV63gDGkO30"
      },
      "execution_count": null,
      "outputs": []
    },
    {
      "cell_type": "code",
      "source": [
        "# Imperva statistics Endpoint\n",
        "URI = f\"https://{SERVER_INCAPSULA}/api/stats/v1\"\n",
        "\n",
        "# Imperva API credentials\n",
        "api_id = \"<API-ID>\"\n",
        "api_key = \"<API-KEY>\"\n",
        "\n",
        "# Input dates to retrieve statistics\n",
        "startDate = \"2022-05-12 10:00\"\n",
        "endDate = \"2022-05-12 10:00\"\n",
        "\n",
        "# Converting human-readable date/time to miliseconds\n",
        "time_range = \"custom\"\n",
        "start = datetime.strptime(startDate, \"%Y-%m-%d %H:%M\")\n",
        "end = datetime.strptime(endDate, \"%Y-%m-%d %H:%M\")\n",
        "start_time = str(start.timestamp())[:-2] + \"000\"\n",
        "end_time =  str(end.timestamp())[:-2] + \"000\"\n",
        "\n",
        "# Setting session for API requests\n",
        "session = requests.session()\n",
        "\n",
        "# Getting sites json data\n",
        "site_list = getSiteList()[\"sites\"]\n",
        "\n",
        "# Generating Sites DF\n",
        "dfSites = pd.json_normalize(site_list)\n",
        "dfSites = dfSites[[\"site_id\", \"domain\", \"account_id\", \"ips\", \"active\"]]\n",
        "\n",
        "# Collecting site IDs into list\n",
        "site_list = dfSites['site_id'].tolist()\n",
        "\n",
        "# Init list datasets to generate Dataframes\n",
        "dsVisits = []\n",
        "dsHits = []\n",
        "dsBandwidth = []\n",
        "dsThreats = []\n",
        "\n",
        "# Iterate through site IDs to get the statistics\n",
        "for site_id in site_list:\n",
        "    # Human Visits\n",
        "    rStats = getStats(session, \"visits_timeseries\")\n",
        "    human_visits = rStats[\"visits_timeseries\"][0][\"data\"]\n",
        "    dfHumanVisits = pd.DataFrame(human_visits, columns= [\"visits_time\", \"human_visit_cnt\"])\n",
        "    human_tot_visits = sum(dfHumanVisits['human_visit_cnt'])\n",
        "    # Bots Visits\n",
        "    bot_visits = rStats[\"visits_timeseries\"][1][\"data\"]\n",
        "    dfBotVisits = pd.DataFrame(bot_visits, columns= [\"visits_time\", \"bot_visit_cnt\"])\n",
        "    bot_tot_visits = sum(dfBotVisits['bot_visit_cnt'])\n",
        "    # Collecting site visit results\n",
        "    dsVisits.append([site_id, human_tot_visits, bot_tot_visits])\n",
        "\n",
        "    # Human Hits\n",
        "    rStats = getStats(session, \"hits_timeseries\")\n",
        "    human_hits = rStats[\"hits_timeseries\"][0][\"data\"]\n",
        "    dfHumanHits = pd.DataFrame(human_hits, columns= [\"hits_time\", \"human_hit_cnt\"])\n",
        "    human_tot_hits = sum(dfHumanHits['human_hit_cnt'])\n",
        "    # Bot Hits\n",
        "    bot_hits = rStats[\"hits_timeseries\"][1][\"data\"]\n",
        "    dfBotHits = pd.DataFrame(bot_hits, columns= [\"hits_time\", \"bot_hit_cnt\"])\n",
        "    bot_tot_hits = sum(dfBotHits['bot_hit_cnt'])\n",
        "    # Collecting site hits results\n",
        "    dsHits.append([site_id, human_tot_hits, bot_tot_hits])\n",
        "\n",
        "    # BandWidth\n",
        "    rStats = getStats(session, \"bandwidth_timeseries\")\n",
        "    bandwidth = rStats[\"bandwidth_timeseries\"][0][\"data\"]\n",
        "    dfBandwidth = pd.DataFrame(bandwidth, columns= [\"bandwidth_time\", \"bandwidth\"])\n",
        "    # Converting DF column to GB\n",
        "    if int(len(dfBandwidth)) > 0:\n",
        "        dfBandwidth['bandwidth'] = dfBandwidth.apply(lambda row: conv_bandwith(row['bandwidth'], SIZE_UNIT.GB), axis=1)\n",
        "    # Adds Bandwith values\n",
        "    tot_bandwidth_gb = sum(dfBandwidth['bandwidth'])\n",
        "    # Collecting Bandwith results\n",
        "    dsBandwidth.append([site_id, tot_bandwidth_gb])\n",
        "\n",
        "    # Threats\n",
        "    rStats = getStats(session, \"threats\")\n",
        "    threats = rStats[\"threats\"]\n",
        "    dfThreats = pd.DataFrame(threats, columns= [\"incidents\", \"status_text\", \"name\"])\n",
        "    # Iterate through DF rows to collect results by site and threat name\n",
        "    for idx, th in dfThreats.iterrows():\n",
        "        # Collecting Threats results\n",
        "        dsThreats.append([site_id, th[\"name\"], th[\"incidents\"]])"
      ],
      "metadata": {
        "id": "52THJEONkOs1"
      },
      "execution_count": null,
      "outputs": []
    },
    {
      "cell_type": "code",
      "source": [
        "## Generating DFs based on dataset lists\n",
        "dfVisits = pd.DataFrame(dsVisits, columns = ['site_id', 'human_tot_visits', 'bot_tot_visits'])\n",
        "dfHits = pd.DataFrame(dsHits, columns = ['site_id', 'human_tot_hits', 'bot_tot_hits'])\n",
        "dfBandwithGB = pd.DataFrame(dsBandwidth, columns = ['site_id', 'tot_bandwidth_gb'])\n",
        "dfThreats = pd.DataFrame(dsThreats, columns = ['site_id', 'threat', 'incidents'])\n",
        "# Converting rows as column headers for Threats\n",
        "dfThreats = dfThreats.pivot_table(values='incidents', index=dfThreats.site_id, columns='threat', aggfunc='last')\n",
        "# Reseting dfThreats index (optional)\n",
        "dfThreats.reset_index(inplace=True)"
      ],
      "metadata": {
        "id": "BnQ_r3-4kXcl"
      },
      "execution_count": null,
      "outputs": []
    },
    {
      "cell_type": "code",
      "source": [
        "# Merging all Dfs together\n",
        "dfSites = pd.merge(dfSites, dfVisits, on=\"site_id\")\n",
        "dfSites = pd.merge(dfSites, dfHits, on=\"site_id\")\n",
        "dfSites = pd.merge(dfSites, dfBandwithGB, on=\"site_id\")\n",
        "dfSites = pd.merge(dfSites, dfThreats, how=\"left\", on=\"site_id\")"
      ],
      "metadata": {
        "id": "heVrltGum8O7"
      },
      "execution_count": null,
      "outputs": []
    },
    {
      "cell_type": "code",
      "source": [
        "# Showing final DataFrame\n",
        "print(dfSites.to_string())"
      ],
      "metadata": {
        "id": "WJk32p68m-ao"
      },
      "execution_count": null,
      "outputs": []
    }
  ]
}